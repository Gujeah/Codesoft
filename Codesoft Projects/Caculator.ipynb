{
 "cells": [
  {
   "cell_type": "markdown",
   "id": "1f35ad39",
   "metadata": {},
   "source": [
    "# Calculator"
   ]
  },
  {
   "cell_type": "code",
   "execution_count": null,
   "id": "5c9c26cf",
   "metadata": {},
   "outputs": [],
   "source": [
    "#the purpose of this project is to generate the output given to number using basic arithmetic operations such as +,-,/,*"
   ]
  },
  {
   "cell_type": "code",
   "execution_count": 1,
   "id": "13b22c56",
   "metadata": {},
   "outputs": [
    {
     "name": "stdout",
     "output_type": "stream",
     "text": [
      "Enter the first number: 5\n",
      "Enter the second number: 9\n",
      "Enter the operation that you want to calculate be it add(+),subtraction(-), multiplication(*),and division(/) : *\n",
      "The multiplication of two numbers is: 45\n"
     ]
    }
   ],
   "source": [
    "FirstNum=int(input('Enter the first number: '))\n",
    "SecondNum=int(input('Enter the second number: '))\n",
    "calculation=str(input('Enter the operation that you want to calculate be it add(+),subtraction(-), multiplication(*),and division(/) : '))\n",
    " \n",
    "if calculation == \"+\":\n",
    "    print(\"The summation of two numbers is:\", FirstNum + SecondNum)\n",
    "elif calculation == \"-\":\n",
    "    print(\"The subtraction of two numbers is:\", FirstNum - SecondNum)\n",
    "elif calculation == \"*\":\n",
    "    print(\"The multiplication of two numbers is:\", FirstNum * SecondNum)\n",
    "elif calculation == \"/\":\n",
    "    if SecondNum != 0:  # Check for division by zero\n",
    "        print(\"The division of two numbers is:\", FirstNum / SecondNum)\n",
    "    else:\n",
    "        print(\"Error: thou shall not be divided by zero.\")\n",
    "else:\n",
    "    print(\"Invalid operation entered.\")\n"
   ]
  },
  {
   "cell_type": "code",
   "execution_count": null,
   "id": "1a081cd1",
   "metadata": {},
   "outputs": [],
   "source": []
  },
  {
   "cell_type": "code",
   "execution_count": null,
   "id": "12b12c86",
   "metadata": {},
   "outputs": [],
   "source": []
  },
  {
   "cell_type": "code",
   "execution_count": null,
   "id": "72447151",
   "metadata": {},
   "outputs": [],
   "source": []
  },
  {
   "cell_type": "code",
   "execution_count": null,
   "id": "44cd42da",
   "metadata": {},
   "outputs": [],
   "source": []
  },
  {
   "cell_type": "code",
   "execution_count": null,
   "id": "404188c8",
   "metadata": {},
   "outputs": [],
   "source": []
  },
  {
   "cell_type": "code",
   "execution_count": null,
   "id": "2ab7b172",
   "metadata": {},
   "outputs": [],
   "source": []
  },
  {
   "cell_type": "code",
   "execution_count": null,
   "id": "e4b5179d",
   "metadata": {},
   "outputs": [],
   "source": []
  }
 ],
 "metadata": {
  "kernelspec": {
   "display_name": "Python 3 (ipykernel)",
   "language": "python",
   "name": "python3"
  },
  "language_info": {
   "codemirror_mode": {
    "name": "ipython",
    "version": 3
   },
   "file_extension": ".py",
   "mimetype": "text/x-python",
   "name": "python",
   "nbconvert_exporter": "python",
   "pygments_lexer": "ipython3",
   "version": "3.11.5"
  }
 },
 "nbformat": 4,
 "nbformat_minor": 5
}
