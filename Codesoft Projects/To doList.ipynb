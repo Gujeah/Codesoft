{
 "cells": [
  {
   "cell_type": "code",
   "execution_count": 1,
   "id": "c7b3a507",
   "metadata": {},
   "outputs": [],
   "source": [
    "import tkinter as tk\n",
    "from tkinter import messagebox\n"
   ]
  },
  {
   "cell_type": "code",
   "execution_count": 2,
   "id": "e68c13c0",
   "metadata": {},
   "outputs": [],
   "source": [
    "class ToDoApp:\n",
    "    def __init__(self, root):\n",
    "        self.root = root\n",
    "        self.root.title(\"To-Do List App\")\n",
    "\n",
    "        # Create a list to store tasks\n",
    "        self.tasks = []\n",
    "\n",
    "        \n",
    "        self.task_entry = tk.Entry(root, width=30)\n",
    "        self.task_entry.grid(row=0, column=0, padx=10, pady=10)\n",
    "\n",
    "        add_button = tk.Button(root, text=\"Add Task\", command=self.add_task)\n",
    "        add_button.grid(row=0, column=1, padx=10, pady=10)\n",
    "\n",
    "        self.task_listbox = tk.Listbox(root, selectmode=tk.SINGLE, width=40, height=10)\n",
    "        self.task_listbox.grid(row=1, column=0, columnspan=2, padx=10, pady=10)\n",
    "\n",
    "        remove_button = tk.Button(root, text=\"Remove Task\", command=self.remove_task)\n",
    "        remove_button.grid(row=2, column=0, columnspan=2, pady=10)\n",
    "\n",
    "    def add_task(self):\n",
    "        task = self.task_entry.get()\n",
    "        if task:\n",
    "            self.tasks.append(task)\n",
    "            self.update_task_list()\n",
    "            self.task_entry.delete(0, tk.END)\n",
    "        else:\n",
    "            messagebox.showwarning(\"Warning\", \"Please enter a task.\")\n",
    "\n",
    "    def remove_task(self):\n",
    "        selected_index = self.task_listbox.curselection()\n",
    "        if selected_index:\n",
    "            index = selected_index[0]\n",
    "            removed_task = self.tasks.pop(index)\n",
    "            self.update_task_list()\n",
    "            messagebox.showinfo(\"Task Removed\", f'Task \"{removed_task}\" removed successfully.')\n",
    "        else:\n",
    "            messagebox.showwarning(\"Warning\", \"Please select a task to remove.\")\n",
    "\n",
    "    def update_task_list(self):\n",
    "        self.task_listbox.delete(0, tk.END)\n",
    "        for task in self.tasks:\n",
    "            self.task_listbox.insert(tk.END, task)\n",
    "\n",
    "def main():\n",
    "    root = tk.Tk()\n",
    "    app = ToDoApp(root)\n",
    "    root.mainloop()\n",
    "\n",
    "if __name__ == \"__main__\":\n",
    "    main()\n"
   ]
  },
  {
   "cell_type": "code",
   "execution_count": null,
   "id": "55f0aef4",
   "metadata": {},
   "outputs": [],
   "source": []
  },
  {
   "cell_type": "code",
   "execution_count": null,
   "id": "f0c342ef",
   "metadata": {},
   "outputs": [],
   "source": []
  },
  {
   "cell_type": "code",
   "execution_count": null,
   "id": "3eb22023",
   "metadata": {},
   "outputs": [],
   "source": []
  },
  {
   "cell_type": "code",
   "execution_count": null,
   "id": "f9522144",
   "metadata": {},
   "outputs": [],
   "source": []
  },
  {
   "cell_type": "code",
   "execution_count": null,
   "id": "564c37e2",
   "metadata": {},
   "outputs": [],
   "source": []
  },
  {
   "cell_type": "code",
   "execution_count": null,
   "id": "fe59aeff",
   "metadata": {},
   "outputs": [],
   "source": []
  },
  {
   "cell_type": "code",
   "execution_count": null,
   "id": "8c03d7d4",
   "metadata": {},
   "outputs": [],
   "source": []
  },
  {
   "cell_type": "code",
   "execution_count": null,
   "id": "9d8a95f6",
   "metadata": {},
   "outputs": [],
   "source": []
  }
 ],
 "metadata": {
  "kernelspec": {
   "display_name": "Python 3 (ipykernel)",
   "language": "python",
   "name": "python3"
  },
  "language_info": {
   "codemirror_mode": {
    "name": "ipython",
    "version": 3
   },
   "file_extension": ".py",
   "mimetype": "text/x-python",
   "name": "python",
   "nbconvert_exporter": "python",
   "pygments_lexer": "ipython3",
   "version": "3.11.5"
  }
 },
 "nbformat": 4,
 "nbformat_minor": 5
}
